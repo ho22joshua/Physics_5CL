{
 "cells": [
  {
   "cell_type": "code",
   "execution_count": 14,
   "id": "09fa23ef",
   "metadata": {},
   "outputs": [],
   "source": [
    "# Import packages\n",
    "import numpy as np\n",
    "import scipy.optimize as opt\n",
    "import matplotlib.pyplot as plt\n",
    "import math\n",
    "\n",
    "# Tell notebook server to show plots inline\n",
    "%matplotlib inline"
   ]
  },
  {
   "cell_type": "code",
   "execution_count": 17,
   "id": "c7fb8873",
   "metadata": {},
   "outputs": [],
   "source": [
    "theta = [-90, -75, -60, -45, -30, -15, 0, 15, 30, 45, 60, 75, 90, 105, 120, 135, 150, \n",
    "         165, 180, 195, 210, 225, 240, 255, 270]\n",
    "intensity = [41, 198, 683, 1309, 1960, 2453, 2816, 2617, 2143, 1417, 730, 207, 41, \n",
    "             216, 724, 1336, 2127, 2596, 2749, 2645, 1922, 1253, 644, 190, 41]\n",
    "intensity = [x - 41 for x in intensity]"
   ]
  },
  {
   "cell_type": "code",
   "execution_count": 18,
   "id": "7d1d260c",
   "metadata": {},
   "outputs": [
    {
     "data": {
      "image/png": "[encoded data removed]",
      "text/plain": [
       "<Figure size 432x288 with 1 Axes>"
      ]
     },
     "metadata": {
      "needs_background": "light"
     },
     "output_type": "display_data"
    }
   ],
   "source": [
    "plt.errorbar(theta, intensity, yerr=0, fmt='o')\n",
    "plt.xlabel('Theta relative (degrees)')\n",
    "plt.ylabel('Intensity (lux)')\n",
    "plt.title(\"Intensity vs Theta\")\n",
    "plt.xlim(-90, 270)\n",
    "plt.show()"
   ]
  },
  {
   "cell_type": "code",
   "execution_count": 19,
   "id": "448ef24d",
   "metadata": {},
   "outputs": [],
   "source": [
    "# Define model functions\n",
    "def model(theta, i0, theta_0, Ibg):\n",
    "    return i0*np.power(np.cos((theta - theta_0) * np.pi / 180), 2) + Ibg"
   ]
  },
  {
   "cell_type": "code",
   "execution_count": 25,
   "id": "20fa89da",
   "metadata": {},
   "outputs": [
    {
     "name": "stdout",
     "output_type": "stream",
     "text": [
      "[[ 2.72797050e+03  3.74486277e+01]\n",
      " [ 1.31915983e-01  4.08697327e-01]\n",
      " [-2.81064246e+01  2.24691766e+01]]\n"
     ]
    }
   ],
   "source": [
    "# Set initial parameters\n",
    "i0_init, theta_0_init, Ibg_init =[2000,0, 0]\n",
    "\n",
    "# Perform the fit\n",
    "start_pars=[i0_init, theta_0_init, Ibg_init]\n",
    "\n",
    "pars, cov = opt.curve_fit(model, theta, intensity, p0=start_pars)\n",
    "    \n",
    "[I0, theta0, Ibg] = pars\n",
    "   \n",
    "# Error in fitting parameters\n",
    "std_errs = np.sqrt(np.diag(cov))\n",
    "\n",
    "print(np.transpose([pars, std_errs]))"
   ]
  },
  {
   "cell_type": "code",
   "execution_count": 26,
   "id": "82c141d5",
   "metadata": {},
   "outputs": [
    {
     "name": "stdout",
     "output_type": "stream",
     "text": [
      "2727.970502900262 0.13191598337408575 -28.10642463031151\n"
     ]
    }
   ],
   "source": [
    "print(I0, theta0, Ibg)"
   ]
  },
  {
   "cell_type": "code",
   "execution_count": null,
   "id": "26be2f43",
   "metadata": {},
   "outputs": [],
   "source": []
  }
 ],
 "metadata": {
  "kernelspec": {
   "display_name": "Python 3 (ipykernel)",
   "language": "python",
   "name": "python3"
  },
  "language_info": {
   "codemirror_mode": {
    "name": "ipython",
    "version": 3
   },
   "file_extension": ".py",
   "mimetype": "text/x-python",
   "name": "python",
   "nbconvert_exporter": "python",
   "pygments_lexer": "ipython3",
   "version": "3.9.6"
  }
 },
 "nbformat": 4,
 "nbformat_minor": 5
}
